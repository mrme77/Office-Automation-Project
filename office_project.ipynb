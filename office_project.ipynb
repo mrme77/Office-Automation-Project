{
 "cells": [
  {
   "cell_type": "markdown",
   "metadata": {},
   "source": [
    "# Office Automation Project"
   ]
  },
  {
   "cell_type": "markdown",
   "metadata": {},
   "source": [
    "## Introduction\n",
    "This is a collection of scripts in Visual Basic and Power Shell to automate some daily office tasks and save workhours, every minute counts! "
   ]
  },
  {
   "cell_type": "markdown",
   "metadata": {},
   "source": [
    "### Prerequisites\n",
    "- PowerShell\n",
    "- Visual Basic Scripts"
   ]
  },
  {
   "cell_type": "markdown",
   "metadata": {},
   "source": [
    "### Retrieving Computer Info\n",
    "The PowerShell script below, <i>Serial_Number.ps1,</i> collects the current date, computer name, user domain, serial number, and appendes them to a csv file (<i>WorkStation_Serial_Number.csv</i>). It was created to conduct a computer inventory audit during Covid to avoid direct exposure between auditor and end users.\n"
   ]
  },
  {
   "cell_type": "markdown",
   "metadata": {},
   "source": [
    " ```\n",
    "Set-Location C:\\Users\\MySelf\\Desktop\n",
    "$Date= Get-Date\n",
    "$SerialNumber= wmic bios get serialnumber\n",
    " \n",
    "New-Object -TypeName PSCustomObject -Property @{\n",
    "Computer_Name = $env:ComputerName\n",
    "User_Name= $env:USERNAME\n",
    "User_Domain= $env:USERDNSDOMAIN\n",
    "Serial_Number =$SerialNumber[2]\n",
    "Date = $Date\n",
    "} | Export-Csv -Path WorkStation_Serial_Number.csv -NoTypeInformation -Append\n",
    " ```"
   ]
  },
  {
   "cell_type": "markdown",
   "metadata": {},
   "source": [
    "The <i>Collect_Serial_Number.vbs</i> below allows each user to automatically run the <i>Serial_Number.ps1 .</i>"
   ]
  },
  {
   "cell_type": "markdown",
   "metadata": {},
   "source": [
    "```\n",
    "Set objShell = CreateObject(\"Wscript.shell\")\n",
    "objShell.run(\"powershell -executionpolicy bypass -file R:\\Shared_Office\\Serial_Number.ps1\")\n",
    "```"
   ]
  },
  {
   "cell_type": "markdown",
   "metadata": {},
   "source": [
    "### Data Sanitization\n",
    "\n",
    "The PowerShell script below , <i>cleaning_older_files.ps1</i>, deletes PII data stored in restricted folders with a LastWriteTime attribute older than 365 days. It also creates a log of the files deleted."
   ]
  },
  {
   "cell_type": "markdown",
   "metadata": {},
   "source": [
    "```\n",
    "$Folder = \"R:\\SharedFolders\\Reports\"\n",
    "#Delete all files older than 365 days\n",
    "Get-ChildItem $Folder -Recurse -Force -ea 0  |\n",
    "? {!$_.PsIsContainer -and $_.LastWriteTime -lt (Get-Date).AddDays(-365)} |\n",
    "ForEach-Object {\n",
    "   $_ | del -Force -Confirm:$false\n",
    "   $_.FullName | Out-File \"C:\\Users\\Desktop\\deleted_log.txt\" -Append }\n",
    "```"
   ]
  },
  {
   "cell_type": "markdown",
   "metadata": {},
   "source": [
    "### Daily Task Notification Email"
   ]
  },
  {
   "cell_type": "markdown",
   "metadata": {},
   "source": [
    "The PowerShell script below, <i> email_notification.ps1,</i> checks and retrieves a Transaction Report(s). The report(s) is attached to an email which is already populated and send out daily if needed.On Mondays,it will also check for transaction reports arrived over the weekend."
   ]
  },
  {
   "cell_type": "markdown",
   "metadata": {},
   "source": [
    "```\n",
    "\n",
    "Set-Location R:\\Shared_Folder\\Folder_to_Check\n",
    "$subject_date= Get-Date -DisplayHint Date\n",
    "$day_fullname = Get-Date -Format \"dddd\"\n",
    "$Outlook = New-Object -ComObject Outlook.Application\n",
    "$Mail = $Outlook.CreateItem(0)\n",
    "$Mail.To = \"employee01@staff.org\"\n",
    "$Mail.Subject = \"Transaction Report \"+$subject_date\n",
    "$Mail.Body = \"Good day,\n",
    "\n",
    "Please find attached the Transaction Report. Let me know if you have any question.\n",
    "\"\n",
    "$mail.save()\n",
    "if ($day_fullname -eq \"Monday\"){\n",
    "$filenames = Get-ChildItem *.txt| Where-Object {($_).LastWriteTime.Date  -ge ([datetime]::Today.AddDays(-2)\n",
    ")}\n",
    "}else {\n",
    "$filenames = Get-ChildItem *.txt | Where-Object {($_).LastWriteTime.Date  -ge ([datetime]::Today\n",
    ")}\n",
    "}\n",
    "for ($i=0; $i -lt $filenames.Count; $i++) {\n",
    " \n",
    "        $outputfiles= $filenames[$i].FullName\n",
    "\n",
    "        $mail.Attachments.Add($outputfiles)}\n",
    "\n",
    "$inspector = $mail.GetInspector\n",
    "$inspector.Display()\n",
    "```"
   ]
  },
  {
   "cell_type": "markdown",
   "metadata": {},
   "source": [
    "### Replicating Directory Structure Without Files\n",
    "The PowerShell script below, copy_directory_structure, creates an identical directory structure (to include subdirectories) from one location to another rather than creating it manually. The script only replicates the directory structure and excludes any file."
   ]
  },
  {
   "cell_type": "markdown",
   "metadata": {},
   "source": [
    "```\n",
    "$source=\"C\\Users\\MySelf\"\n",
    "$dest=\"R:\\Shared_Folder\\My_Section_Folder\"\n",
    "robocopy $source $dest /e /xf *.*\n",
    "```"
   ]
  },
  {
   "cell_type": "markdown",
   "metadata": {},
   "source": [
    "### Daily Reports Allocation\n",
    "The PowerShell script below, <i> allocate_reports.ps1,</i> distributes daily reports to the appropriate folders. Rather than opening each file received, to determine its destination, end-user can rely on the script to properly identify each report based on their content, and place them in the final destination folder. The script runs on an infinite loop that starts all over every two hours."
   ]
  },
  {
   "cell_type": "markdown",
   "metadata": {},
   "source": [
    "```\n",
    "do\n",
    "{\n",
    "    $reports_name='Worked_Hours','Evaluations','Awards','Pay_Status','Top_Perfomers','Allocations','Years_Of_Service'\n",
    "    Select-String -List $reports_name 'C:\\Main_System\\Reports\\*.txt' | move-item -LiteralPath {$_.Path }  -Destination \n",
    "    {\"C:\\Main_System\\$($_.Pattern)\"} -force \n",
    "    start-sleep -Seconds 7200 # 2 hours break before sarting the loop all over\n",
    "    \n",
    "}\n",
    "until($infinity)\n",
    "```"
   ]
  },
  {
   "cell_type": "markdown",
   "metadata": {},
   "source": [
    "### Randomly select personnel records\n",
    "The PowerShell script below,<i> random_records.ps1,</i> identifies 10 non duplicate personnel records for testing purposes. Records information is stored in a .csv file. Everytime records are identified, they are removed from the main roster and will not be participate in the next random audit. \n"
   ]
  },
  {
   "cell_type": "markdown",
   "metadata": {},
   "source": [
    "```\n",
    "#setting the directory\n",
    "$add_title=get-date -Format \"MM/dd/yyyy/HH:mm\"\n",
    "Set-Location -path \"R:\\Restricted_Folder\\Personnel_Roster.csv\"\n",
    "#importing the csv object\n",
    "$document = Import-Csv .\\Personnel_Roster.csv\n",
    "#column to array\n",
    "$column_name = @($document.\"Full Name\")\n",
    "\n",
    "#loop until 10 non duplicates sample are found.\n",
    "do{\n",
    "    $NonRepeat = $column_name|Get-Random -count 10\n",
    "} until ($NonRepeat -notmatch '(\\d)\\k<1>')\n",
    "\n",
    "#select full name and unit description from personnel roster\n",
    "$final_sample = $document |select \"Full_Name\",\"Recent_Evaluation_Score,\"\"Office_Desc\"|? \"Full_Name\" -in $NonRepeat |export-csv random_records.csv -NoTypeInformation -Append\n",
    "#deletes the name from the original \n",
    "$document = $document |select *| where \"Full_ Name\" -Notin $NonRepat |export-csv Personnel_Roster.csv -NoTypeInformation -force\n",
    "\n",
    "```"
   ]
  },
  {
   "cell_type": "markdown",
   "metadata": {},
   "source": [
    "### Find and Remove Identical Files\n",
    "The PowerShell script below, <i> duplicate_files.ps1,</i> finds identical files based on the SHA1 algorithm, and moves them to <i> path_duplicates.</i>.SHA1 is in a hash or message digest algorithm where it generates 160-bit unique value from the input data. The input data size doesn’t matter as SHA1 always generates the same size message digest or hash which is 160 bit. "
   ]
  },
  {
   "cell_type": "markdown",
   "metadata": {},
   "source": [
    "```\n",
    "$myFilePath='R:\\Restricted_Folder\\Personnel_Reports'\n",
    "$path_duplicates= 'R:\\Restricted_Folder\\Personnel_Reports\\Archive'\n",
    "$fileHashes = Get-ChildItem -Path $myFilePath -Recurse -File | Get-Filehash -Algorithm SHA1\n",
    "$duplicates = $fileHashes | Group hash | ? {$_.count -gt 1} | % {$_.Group} \n",
    "\n",
    "$uniqueItems = @{}\n",
    "$doubledItems = @()\n",
    "\n",
    "foreach($item in $duplicates) {\n",
    "  \n",
    "  if(-not $uniqueItems.ContainsKey($item.Hash)){\n",
    "    $uniqueItems.Add($item.Hash,$item)\n",
    "  }else{\n",
    "    $doubledItems += $item\n",
    "  }\n",
    "}\n",
    "\n",
    "\n",
    "# Remove indentical files\n",
    "#$doubledItems | % {Remove-Item $_.path} -Verbose\n",
    "# Move identical files\n",
    "$doubledItems |% {move-item $_.path -destination $path_duplicates -Force}\n",
    "\n",
    "```"
   ]
  },
  {
   "cell_type": "markdown",
   "metadata": {},
   "source": [
    "### Remove Duplicate Rows Excel Document\n",
    "The VBA subroutine below removes duplicate rows based on the content of multiple columns.\n"
   ]
  },
  {
   "cell_type": "markdown",
   "metadata": {},
   "source": [
    "```\n",
    "Sub remove_duplicates()\n",
    "\n",
    "    Dim lastrow As Long\n",
    "\n",
    "    With ThisWorkbook.Worksheets(\"Sheet1\") 'the name of the Excel sheet\n",
    "        If Application.WorksheetFunction.CountA(.Cells) <> 0 Then\n",
    "            lastrow = .Cells.Find(What:=\"*\", _\n",
    "                          After:=.Range(\"A1\"), _\n",
    "                          Lookat:=xlPart, _\n",
    "                          LookIn:=xlFormulas, _\n",
    "                          SearchOrder:=xlByRows, _\n",
    "                          SearchDirection:=xlPrevious, _\n",
    "                          MatchCase:=False).Row\n",
    "        Else\n",
    "            lastrow = 1\n",
    "        End If\n",
    "\n",
    "        'Array(1, 2, 16) means 1 - for A, 2 for B and 16 for P columns\n",
    "        .Range(\"A1:Q\" & lastrow).RemoveDuplicates Columns:=Array(4, 5, 12), _\n",
    "            Header:=xlYes 'if the data in column 4,5, and 12 is repeated in more than one row it will be removed.\n",
    "    End With\n",
    "End Sub\n",
    "\n",
    "```"
   ]
  },
  {
   "cell_type": "markdown",
   "metadata": {},
   "source": [
    "### Merging Multiple Excel Files\n",
    "This VBA subroutine below allows user to merge multiple Excel Workbooks in one document."
   ]
  },
  {
   "cell_type": "markdown",
   "metadata": {},
   "source": [
    "```\n",
    "Sub MergeExcelFiles()\n",
    "    Dim fnameList, fnameCurFile As Variant\n",
    "    Dim countFiles, countSheets As Integer\n",
    "    Dim wksCurSheet As Worksheet\n",
    "    Dim wbkCurBook, wbkSrcBook As Workbook\n",
    " \n",
    "    fnameList = Application.GetOpenFilename(FileFilter:=\"Microsoft Excel Workbooks (*.xls;*.xlsx;*.xlsm),*.xls;*.xlsx;*.xlsm\", Title:=\"Choose Excel files to merge\", MultiSelect:=True)\n",
    " \n",
    "    If (vbBoolean <> VarType(fnameList)) Then\n",
    " \n",
    "        If (UBound(fnameList) > 0) Then\n",
    "            countFiles = 0\n",
    "            countSheets = 0\n",
    " \n",
    "            Application.ScreenUpdating = False\n",
    "            Application.Calculation = xlCalculationManual\n",
    " \n",
    "            Set wbkCurBook = ActiveWorkbook\n",
    " \n",
    "            For Each fnameCurFile In fnameList\n",
    "                countFiles = countFiles + 1\n",
    " \n",
    "                Set wbkSrcBook = Workbooks.Open(Filename:=fnameCurFile)\n",
    " \n",
    "                For Each wksCurSheet In wbkSrcBook.Sheets\n",
    "                    countSheets = countSheets + 1\n",
    "                    wksCurSheet.Copy after:=wbkCurBook.Sheets(wbkCurBook.Sheets.Count)\n",
    "                Next\n",
    " \n",
    "                wbkSrcBook.Close SaveChanges:=False\n",
    " \n",
    "            Next\n",
    " \n",
    "            Application.ScreenUpdating = True\n",
    "            Application.Calculation = xlCalculationAutomatic\n",
    " \n",
    "            MsgBox \"Processed \" & countFiles & \" files\" & vbCrLf & \"Merged \" & countSheets & \" worksheets\", Title:=\"Merge Excel files\"\n",
    "        End If\n",
    " \n",
    "    Else\n",
    "        MsgBox \"No files selected\", Title:=\"Merge Excel files\"\n",
    "    End If\n",
    "End Sub\n",
    "```"
   ]
  },
  {
   "cell_type": "code",
   "execution_count": null,
   "metadata": {},
   "outputs": [],
   "source": []
  }
 ],
 "metadata": {
  "kernelspec": {
   "display_name": "Python 3",
   "language": "python",
   "name": "python3"
  },
  "language_info": {
   "codemirror_mode": {
    "name": "ipython",
    "version": 3
   },
   "file_extension": ".py",
   "mimetype": "text/x-python",
   "name": "python",
   "nbconvert_exporter": "python",
   "pygments_lexer": "ipython3",
   "version": "3.7.6"
  }
 },
 "nbformat": 4,
 "nbformat_minor": 4
}
